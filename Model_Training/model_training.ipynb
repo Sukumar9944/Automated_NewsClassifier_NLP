{
 "cells": [
  {
   "cell_type": "code",
   "execution_count": 2,
   "metadata": {},
   "outputs": [],
   "source": [
    "from processor import processing\n",
    "import pandas as pd\n",
    "\n",
    "# Train Test Split\n",
    "from sklearn.model_selection import train_test_split\n",
    "\n",
    "# Vectorisation module\n",
    "from sklearn.feature_extraction.text import CountVectorizer\n",
    "\n",
    "# Classifiers\n",
    "from sklearn.ensemble import RandomForestClassifier\n",
    "from sklearn.svm import SVC\n",
    "from sklearn.neighbors import KNeighborsClassifier\n",
    "from xgboost import XGBClassifier\n",
    "\n",
    "# Evaluation metrics\n",
    "from sklearn.metrics import accuracy_score"
   ]
  },
  {
   "cell_type": "code",
   "execution_count": 48,
   "metadata": {},
   "outputs": [
    {
     "data": {
      "text/html": [
       "<div>\n",
       "<style scoped>\n",
       "    .dataframe tbody tr th:only-of-type {\n",
       "        vertical-align: middle;\n",
       "    }\n",
       "\n",
       "    .dataframe tbody tr th {\n",
       "        vertical-align: top;\n",
       "    }\n",
       "\n",
       "    .dataframe thead th {\n",
       "        text-align: right;\n",
       "    }\n",
       "</style>\n",
       "<table border=\"1\" class=\"dataframe\">\n",
       "  <thead>\n",
       "    <tr style=\"text-align: right;\">\n",
       "      <th></th>\n",
       "      <th>Header</th>\n",
       "      <th>Section</th>\n",
       "    </tr>\n",
       "  </thead>\n",
       "  <tbody>\n",
       "    <tr>\n",
       "      <th>755</th>\n",
       "      <td>mark cuban say plan run president   heel dalla...</td>\n",
       "      <td>Politics</td>\n",
       "    </tr>\n",
       "  </tbody>\n",
       "</table>\n",
       "</div>"
      ],
      "text/plain": [
       "                                                Header   Section\n",
       "755  mark cuban say plan run president   heel dalla...  Politics"
      ]
     },
     "execution_count": 48,
     "metadata": {},
     "output_type": "execute_result"
    }
   ],
   "source": [
    "df = pd.read_csv(r'F:\\GUVI_DATA_SCIENCE\\Project\\Automated_NewsClassifier_NLP\\Datasets\\processed_dataset.csv')\n",
    "df.sample()"
   ]
  },
  {
   "cell_type": "code",
   "execution_count": 16,
   "metadata": {},
   "outputs": [
    {
     "data": {
      "text/plain": [
       "Section\n",
       "Technology            201\n",
       "Automobile            200\n",
       "Health_and_Science    200\n",
       "Investing             200\n",
       "Politics              200\n",
       "Name: count, dtype: int64"
      ]
     },
     "execution_count": 16,
     "metadata": {},
     "output_type": "execute_result"
    }
   ],
   "source": [
    "df['Section'].value_counts()"
   ]
  },
  {
   "cell_type": "code",
   "execution_count": 17,
   "metadata": {},
   "outputs": [],
   "source": [
    "df['Target'] = df['Section'].map({'Technology':0, 'Automobile':1,'Health_and_Science':2, 'Investing':3, 'Politics':4})"
   ]
  },
  {
   "cell_type": "markdown",
   "metadata": {},
   "source": [
    "##### **Model Training**"
   ]
  },
  {
   "cell_type": "code",
   "execution_count": 18,
   "metadata": {},
   "outputs": [
    {
     "name": "stdout",
     "output_type": "stream",
     "text": [
      "(800,) (201,)\n"
     ]
    }
   ],
   "source": [
    "x = df['Header']\n",
    "y = df['Target']\n",
    "\n",
    "x_train, x_test, y_train, y_test = train_test_split(x, y, test_size = 0.2, random_state = 42)\n",
    "print(x_train.shape, x_test.shape)"
   ]
  },
  {
   "cell_type": "markdown",
   "metadata": {},
   "source": [
    "##### **Vectorisation of Text**"
   ]
  },
  {
   "cell_type": "code",
   "execution_count": 19,
   "metadata": {},
   "outputs": [],
   "source": [
    "cv = CountVectorizer()\n",
    "\n",
    "x_train_vectorised_1 = cv.fit_transform(x_train)\n",
    "x_test_vectorised_1  = cv.transform(x_test)"
   ]
  },
  {
   "cell_type": "markdown",
   "metadata": {},
   "source": [
    "##### **Fitting the model**"
   ]
  },
  {
   "cell_type": "code",
   "execution_count": 20,
   "metadata": {},
   "outputs": [],
   "source": [
    "def model_training(model_name, x_train, y_train):\n",
    "    if model_name == 'RandomForestClassifier':\n",
    "        model = RandomForestClassifier(random_state = 42)\n",
    "\n",
    "\n",
    "    elif model_name == 'XGBClassifier':\n",
    "        model = XGBClassifier(random_state = 42)\n",
    "\n",
    "\n",
    "    elif model_name == 'SVC':\n",
    "        model = SVC(random_state = 42)\n",
    " \n",
    "\n",
    "    elif model_name == 'KNeighborsClassifier':\n",
    "        model = KNeighborsClassifier()        \n",
    "\n",
    "    else:\n",
    "        raise ValueError('Invalid Model name')\n",
    "    \n",
    "    model.fit(x_train, y_train)\n",
    "\n",
    "    return model"
   ]
  },
  {
   "cell_type": "markdown",
   "metadata": {},
   "source": [
    "##### **Random Forest Classifier**"
   ]
  },
  {
   "cell_type": "code",
   "execution_count": 21,
   "metadata": {},
   "outputs": [],
   "source": [
    "rfc = model_training('RandomForestClassifier', x_train_vectorised_1, y_train)\n",
    "\n",
    "y_train_pred_1 = rfc.predict(x_train_vectorised_1)\n",
    "y_test_pred_1 = rfc.predict(x_test_vectorised_1)"
   ]
  },
  {
   "cell_type": "markdown",
   "metadata": {},
   "source": [
    "##### **XGBClassifier**"
   ]
  },
  {
   "cell_type": "code",
   "execution_count": 22,
   "metadata": {},
   "outputs": [],
   "source": [
    "xgbc = model_training('XGBClassifier', x_train_vectorised_1, y_train)\n",
    "\n",
    "y_train_pred_2 = xgbc.predict(x_train_vectorised_1)\n",
    "y_test_pred_2 = xgbc.predict(x_test_vectorised_1)"
   ]
  },
  {
   "cell_type": "markdown",
   "metadata": {},
   "source": [
    "##### **SVC**"
   ]
  },
  {
   "cell_type": "code",
   "execution_count": 23,
   "metadata": {},
   "outputs": [],
   "source": [
    "svc = model_training('SVC', x_train_vectorised_1, y_train)\n",
    "\n",
    "y_train_pred_3 = svc.predict(x_train_vectorised_1)\n",
    "y_test_pred_3 = svc.predict(x_test_vectorised_1)"
   ]
  },
  {
   "cell_type": "markdown",
   "metadata": {},
   "source": [
    "##### **KNeighborsClassifier**"
   ]
  },
  {
   "cell_type": "code",
   "execution_count": 24,
   "metadata": {},
   "outputs": [],
   "source": [
    "knc = model_training('KNeighborsClassifier', x_train_vectorised_1, y_train)\n",
    "\n",
    "y_train_pred_4 = knc.predict(x_train_vectorised_1)\n",
    "y_test_pred_4 = knc.predict(x_test_vectorised_1)"
   ]
  },
  {
   "cell_type": "markdown",
   "metadata": {},
   "source": [
    "##### **Evaluation**"
   ]
  },
  {
   "cell_type": "code",
   "execution_count": 25,
   "metadata": {},
   "outputs": [],
   "source": [
    "def evaluation_metrics(y_test, y_pred):\n",
    "    accuracy = accuracy_score(y_test, y_pred)\n",
    "\n",
    "    return f'{round(accuracy*100)}%'"
   ]
  },
  {
   "cell_type": "markdown",
   "metadata": {},
   "source": [
    "##### **Random Forest Classifier**"
   ]
  },
  {
   "cell_type": "code",
   "execution_count": 26,
   "metadata": {},
   "outputs": [
    {
     "name": "stdout",
     "output_type": "stream",
     "text": [
      "The Accuracy score of training set : 99%\n",
      "The Accuracy score of testing set : 72%\n"
     ]
    }
   ],
   "source": [
    "train_score_1 = evaluation_metrics(y_train, y_train_pred_1)\n",
    "print('The Accuracy score of training set :',train_score_1)\n",
    "\n",
    "test_score_1 = evaluation_metrics(y_test, y_test_pred_1)\n",
    "print('The Accuracy score of testing set :',test_score_1)"
   ]
  },
  {
   "cell_type": "markdown",
   "metadata": {},
   "source": [
    "##### **XGBClassifier**"
   ]
  },
  {
   "cell_type": "code",
   "execution_count": 27,
   "metadata": {},
   "outputs": [
    {
     "name": "stdout",
     "output_type": "stream",
     "text": [
      "The Accuracy score of training set : 96%\n",
      "The Accuracy score of testing set : 69%\n"
     ]
    }
   ],
   "source": [
    "train_score_2 = evaluation_metrics(y_train, y_train_pred_2)\n",
    "print('The Accuracy score of training set :',train_score_2)\n",
    "\n",
    "test_score_2 = evaluation_metrics(y_test, y_test_pred_2)\n",
    "print('The Accuracy score of testing set :',test_score_2)"
   ]
  },
  {
   "cell_type": "markdown",
   "metadata": {},
   "source": [
    "##### **SVC**"
   ]
  },
  {
   "cell_type": "code",
   "execution_count": 28,
   "metadata": {},
   "outputs": [
    {
     "name": "stdout",
     "output_type": "stream",
     "text": [
      "The Accuracy score of training set : 98%\n",
      "The Accuracy score of testing set : 71%\n"
     ]
    }
   ],
   "source": [
    "train_score_3 = evaluation_metrics(y_train, y_train_pred_3)\n",
    "print('The Accuracy score of training set :',train_score_3)\n",
    "\n",
    "test_score_3 = evaluation_metrics(y_test, y_test_pred_3)\n",
    "print('The Accuracy score of testing set :',test_score_3)"
   ]
  },
  {
   "cell_type": "markdown",
   "metadata": {},
   "source": [
    "##### **KNeighborsClassifier**"
   ]
  },
  {
   "cell_type": "code",
   "execution_count": 29,
   "metadata": {},
   "outputs": [
    {
     "name": "stdout",
     "output_type": "stream",
     "text": [
      "The Accuracy score of training set : 65%\n",
      "The Accuracy score of testing set : 45%\n"
     ]
    }
   ],
   "source": [
    "train_score_4 = evaluation_metrics(y_train, y_train_pred_4)\n",
    "print('The Accuracy score of training set :',train_score_4)\n",
    "\n",
    "test_score_4 = evaluation_metrics(y_test, y_test_pred_4)\n",
    "print('The Accuracy score of testing set :',test_score_4)"
   ]
  },
  {
   "cell_type": "markdown",
   "metadata": {},
   "source": [
    "##### *Conclusion - RandomforestClassifier Performs better for this Scenario with a Accuracy score of 99% in training set and a Accuracy score of 72% in testing set*"
   ]
  },
  {
   "cell_type": "markdown",
   "metadata": {},
   "source": [
    "##### **Saving the model**"
   ]
  },
  {
   "cell_type": "code",
   "execution_count": 3,
   "metadata": {},
   "outputs": [],
   "source": [
    "import pickle"
   ]
  },
  {
   "cell_type": "code",
   "execution_count": 33,
   "metadata": {},
   "outputs": [],
   "source": [
    "# Model Object\n",
    "pickle.dump(rfc, open(r'F:\\GUVI_DATA_SCIENCE\\Project\\Automated_NewsClassifier_NLP\\Artifacts\\model.pkl', 'wb'))\n",
    "\n",
    "# Vectorizer\n",
    "pickle.dump(cv, open(r'F:\\GUVI_DATA_SCIENCE\\Project\\Automated_NewsClassifier_NLP\\Artifacts\\vectorizer.pkl', 'wb'))"
   ]
  },
  {
   "cell_type": "markdown",
   "metadata": {},
   "source": [
    "##### **User Input Prediction**"
   ]
  },
  {
   "cell_type": "code",
   "execution_count": 13,
   "metadata": {},
   "outputs": [
    {
     "name": "stdout",
     "output_type": "stream",
     "text": [
      "0\n"
     ]
    }
   ],
   "source": [
    "text = 'Microsoft’s upcoming Surface lineup will feature a next-gen NPU: Report'\n",
    "\n",
    "# Text processing\n",
    "\n",
    "processed_df = processing(text)\n",
    "\n",
    "model = pickle.load(open(r'F:\\GUVI_DATA_SCIENCE\\Project\\Automated_NewsClassifier_NLP\\Artifacts\\model.pkl', 'rb'))\n",
    "vectorizer = pickle.load(open(r'F:\\GUVI_DATA_SCIENCE\\Project\\Automated_NewsClassifier_NLP\\Artifacts\\vectorizer.pkl', 'rb'))\n",
    "\n",
    "input_vectorized = vectorizer.transform(processed_df['Header'])\n",
    "\n",
    "input_prediction = model.predict(input_vectorized)\n",
    "\n",
    "print(input_prediction[0])"
   ]
  }
 ],
 "metadata": {
  "kernelspec": {
   "display_name": "env",
   "language": "python",
   "name": "python3"
  },
  "language_info": {
   "codemirror_mode": {
    "name": "ipython",
    "version": 3
   },
   "file_extension": ".py",
   "mimetype": "text/x-python",
   "name": "python",
   "nbconvert_exporter": "python",
   "pygments_lexer": "ipython3",
   "version": "3.11.3"
  }
 },
 "nbformat": 4,
 "nbformat_minor": 2
}
